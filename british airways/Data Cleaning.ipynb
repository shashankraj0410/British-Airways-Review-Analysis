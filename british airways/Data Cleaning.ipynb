{
 "cells": [
  {
   "cell_type": "code",
   "execution_count": 9,
   "id": "14035ead-d089-48b6-93b4-fa530c0a1c0d",
   "metadata": {},
   "outputs": [],
   "source": [
    "import pandas as pd\n",
    "import matplotlib.pyplot as plt\n",
    "import seaborn as sns\n",
    "import os\n"
   ]
  },
  {
   "cell_type": "code",
   "execution_count": 11,
   "id": "ad52ab05-5981-4b3b-87ab-6706f6beefb9",
   "metadata": {},
   "outputs": [],
   "source": [
    "import re"
   ]
  },
  {
   "cell_type": "code",
   "execution_count": 12,
   "id": "79226b38-7e50-444e-b96a-db801ead3221",
   "metadata": {},
   "outputs": [],
   "source": [
    "cwd=os.getcwd()\n",
    "df=pd.read_csv(cwd+\"/BA_reviewsN.csv\",index_col=0)"
   ]
  },
  {
   "cell_type": "code",
   "execution_count": 39,
   "id": "e1d0a8cd-a1be-46eb-99bf-788010cf4a43",
   "metadata": {},
   "outputs": [
    {
     "data": {
      "text/html": [
       "<div>\n",
       "<style scoped>\n",
       "    .dataframe tbody tr th:only-of-type {\n",
       "        vertical-align: middle;\n",
       "    }\n",
       "\n",
       "    .dataframe tbody tr th {\n",
       "        vertical-align: top;\n",
       "    }\n",
       "\n",
       "    .dataframe thead th {\n",
       "        text-align: right;\n",
       "    }\n",
       "</style>\n",
       "<table border=\"1\" class=\"dataframe\">\n",
       "  <thead>\n",
       "    <tr style=\"text-align: right;\">\n",
       "      <th></th>\n",
       "      <th>reviews</th>\n",
       "      <th>verified</th>\n",
       "      <th>corpus</th>\n",
       "    </tr>\n",
       "  </thead>\n",
       "  <tbody>\n",
       "    <tr>\n",
       "      <th>0</th>\n",
       "      <td>✅ Trip Verified |  Flight delayed an hour due ...</td>\n",
       "      <td>True</td>\n",
       "      <td>flight delayed hour due bad weather around jfk...</td>\n",
       "    </tr>\n",
       "    <tr>\n",
       "      <th>1</th>\n",
       "      <td>✅ Trip Verified |  A very full flight made Pre...</td>\n",
       "      <td>True</td>\n",
       "      <td>full flight made premium economy feel little l...</td>\n",
       "    </tr>\n",
       "    <tr>\n",
       "      <th>2</th>\n",
       "      <td>✅ Trip Verified | The worst airline I’ve ever ...</td>\n",
       "      <td>True</td>\n",
       "      <td>worst airline ever flown could check flight op...</td>\n",
       "    </tr>\n",
       "    <tr>\n",
       "      <th>3</th>\n",
       "      <td>✅ Trip Verified |  I am surprised to be able t...</td>\n",
       "      <td>True</td>\n",
       "      <td>surprised able give favourable review flight e...</td>\n",
       "    </tr>\n",
       "    <tr>\n",
       "      <th>4</th>\n",
       "      <td>✅ Trip Verified |  Flew British Airways on BA ...</td>\n",
       "      <td>True</td>\n",
       "      <td>flew british airway ba london heathrow amsterd...</td>\n",
       "    </tr>\n",
       "    <tr>\n",
       "      <th>...</th>\n",
       "      <td>...</td>\n",
       "      <td>...</td>\n",
       "      <td>...</td>\n",
       "    </tr>\n",
       "    <tr>\n",
       "      <th>995</th>\n",
       "      <td>✅ Trip Verified |  \\r\\nGatwick to Barbados ret...</td>\n",
       "      <td>True</td>\n",
       "      <td>gatwick barbados return normally travel ba low...</td>\n",
       "    </tr>\n",
       "    <tr>\n",
       "      <th>996</th>\n",
       "      <td>✅ Trip Verified |  Marseille to London. I am g...</td>\n",
       "      <td>True</td>\n",
       "      <td>marseille london generally annoyed quality ser...</td>\n",
       "    </tr>\n",
       "    <tr>\n",
       "      <th>997</th>\n",
       "      <td>✅ Trip Verified |  The cabin crew on flight BA...</td>\n",
       "      <td>True</td>\n",
       "      <td>cabin crew flight ba london chennai efficient ...</td>\n",
       "    </tr>\n",
       "    <tr>\n",
       "      <th>998</th>\n",
       "      <td>✅ Trip Verified |  Gatwick to Malaga. Check in...</td>\n",
       "      <td>True</td>\n",
       "      <td>gatwick malaga check fairly quick check area g...</td>\n",
       "    </tr>\n",
       "    <tr>\n",
       "      <th>999</th>\n",
       "      <td>✅ Trip Verified |  Boston to London Heathrow, ...</td>\n",
       "      <td>True</td>\n",
       "      <td>boston london heathrow excited experience firs...</td>\n",
       "    </tr>\n",
       "  </tbody>\n",
       "</table>\n",
       "<p>1000 rows × 3 columns</p>\n",
       "</div>"
      ],
      "text/plain": [
       "                                               reviews  verified  \\\n",
       "0    ✅ Trip Verified |  Flight delayed an hour due ...      True   \n",
       "1    ✅ Trip Verified |  A very full flight made Pre...      True   \n",
       "2    ✅ Trip Verified | The worst airline I’ve ever ...      True   \n",
       "3    ✅ Trip Verified |  I am surprised to be able t...      True   \n",
       "4    ✅ Trip Verified |  Flew British Airways on BA ...      True   \n",
       "..                                                 ...       ...   \n",
       "995  ✅ Trip Verified |  \\r\\nGatwick to Barbados ret...      True   \n",
       "996  ✅ Trip Verified |  Marseille to London. I am g...      True   \n",
       "997  ✅ Trip Verified |  The cabin crew on flight BA...      True   \n",
       "998  ✅ Trip Verified |  Gatwick to Malaga. Check in...      True   \n",
       "999  ✅ Trip Verified |  Boston to London Heathrow, ...      True   \n",
       "\n",
       "                                                corpus  \n",
       "0    flight delayed hour due bad weather around jfk...  \n",
       "1    full flight made premium economy feel little l...  \n",
       "2    worst airline ever flown could check flight op...  \n",
       "3    surprised able give favourable review flight e...  \n",
       "4    flew british airway ba london heathrow amsterd...  \n",
       "..                                                 ...  \n",
       "995  gatwick barbados return normally travel ba low...  \n",
       "996  marseille london generally annoyed quality ser...  \n",
       "997  cabin crew flight ba london chennai efficient ...  \n",
       "998  gatwick malaga check fairly quick check area g...  \n",
       "999  boston london heathrow excited experience firs...  \n",
       "\n",
       "[1000 rows x 3 columns]"
      ]
     },
     "execution_count": 39,
     "metadata": {},
     "output_type": "execute_result"
    }
   ],
   "source": [
    "df"
   ]
  },
  {
   "cell_type": "code",
   "execution_count": 14,
   "id": "fd068d66-cb6d-4233-9aba-d3075d3b5dea",
   "metadata": {},
   "outputs": [],
   "source": [
    "df['verified']=df.reviews.str.contains(\" Trip Verified\")"
   ]
  },
  {
   "cell_type": "code",
   "execution_count": 15,
   "id": "c1b05d36-dde9-4e51-baac-cb6b5e354bc0",
   "metadata": {},
   "outputs": [
    {
     "data": {
      "text/plain": [
       "0      True\n",
       "1      True\n",
       "2      True\n",
       "3      True\n",
       "4      True\n",
       "       ... \n",
       "995    True\n",
       "996    True\n",
       "997    True\n",
       "998    True\n",
       "999    True\n",
       "Name: verified, Length: 1000, dtype: bool"
      ]
     },
     "execution_count": 15,
     "metadata": {},
     "output_type": "execute_result"
    }
   ],
   "source": [
    "df['verified']"
   ]
  },
  {
   "cell_type": "code",
   "execution_count": 16,
   "id": "2b82daef-9061-4f03-b9eb-687c3ea4ae8d",
   "metadata": {},
   "outputs": [
    {
     "data": {
      "text/html": [
       "<div>\n",
       "<style scoped>\n",
       "    .dataframe tbody tr th:only-of-type {\n",
       "        vertical-align: middle;\n",
       "    }\n",
       "\n",
       "    .dataframe tbody tr th {\n",
       "        vertical-align: top;\n",
       "    }\n",
       "\n",
       "    .dataframe thead th {\n",
       "        text-align: right;\n",
       "    }\n",
       "</style>\n",
       "<table border=\"1\" class=\"dataframe\">\n",
       "  <thead>\n",
       "    <tr style=\"text-align: right;\">\n",
       "      <th></th>\n",
       "      <th>reviews</th>\n",
       "      <th>verified</th>\n",
       "    </tr>\n",
       "  </thead>\n",
       "  <tbody>\n",
       "    <tr>\n",
       "      <th>0</th>\n",
       "      <td>✅ Trip Verified |  Flight delayed an hour due ...</td>\n",
       "      <td>True</td>\n",
       "    </tr>\n",
       "    <tr>\n",
       "      <th>1</th>\n",
       "      <td>✅ Trip Verified |  A very full flight made Pre...</td>\n",
       "      <td>True</td>\n",
       "    </tr>\n",
       "    <tr>\n",
       "      <th>2</th>\n",
       "      <td>✅ Trip Verified | The worst airline I’ve ever ...</td>\n",
       "      <td>True</td>\n",
       "    </tr>\n",
       "    <tr>\n",
       "      <th>3</th>\n",
       "      <td>✅ Trip Verified |  I am surprised to be able t...</td>\n",
       "      <td>True</td>\n",
       "    </tr>\n",
       "    <tr>\n",
       "      <th>4</th>\n",
       "      <td>✅ Trip Verified |  Flew British Airways on BA ...</td>\n",
       "      <td>True</td>\n",
       "    </tr>\n",
       "  </tbody>\n",
       "</table>\n",
       "</div>"
      ],
      "text/plain": [
       "                                             reviews  verified\n",
       "0  ✅ Trip Verified |  Flight delayed an hour due ...      True\n",
       "1  ✅ Trip Verified |  A very full flight made Pre...      True\n",
       "2  ✅ Trip Verified | The worst airline I’ve ever ...      True\n",
       "3  ✅ Trip Verified |  I am surprised to be able t...      True\n",
       "4  ✅ Trip Verified |  Flew British Airways on BA ...      True"
      ]
     },
     "execution_count": 16,
     "metadata": {},
     "output_type": "execute_result"
    }
   ],
   "source": [
    "df.head()"
   ]
  },
  {
   "cell_type": "code",
   "execution_count": 17,
   "id": "12547797-feae-4526-b505-8339566999c5",
   "metadata": {},
   "outputs": [],
   "source": [
    "from nltk.stem import WordNetLemmatizer\n",
    "from nltk.corpus import stopwords\n",
    "lemma = WordNetLemmatizer()"
   ]
  },
  {
   "cell_type": "code",
   "execution_count": 28,
   "id": "7388f13d-9864-44b5-a294-85c770cb22ac",
   "metadata": {},
   "outputs": [],
   "source": [
    "reviews_data=df.reviews.str.strip(\"✅ Trip Verified | \")\n",
    "corpus = []"
   ]
  },
  {
   "cell_type": "code",
   "execution_count": 29,
   "id": "325afe26-80b8-48cb-b599-1b4b7d976b14",
   "metadata": {},
   "outputs": [
    {
     "name": "stderr",
     "output_type": "stream",
     "text": [
      "[nltk_data] Downloading package stopwords to\n",
      "[nltk_data]     C:\\Users\\Shashank\\AppData\\Roaming\\nltk_data...\n",
      "[nltk_data]   Unzipping corpora\\stopwords.zip.\n"
     ]
    },
    {
     "data": {
      "text/plain": [
       "True"
      ]
     },
     "execution_count": 29,
     "metadata": {},
     "output_type": "execute_result"
    }
   ],
   "source": [
    "import nltk\n",
    "nltk.download('stopwords')"
   ]
  },
  {
   "cell_type": "code",
   "execution_count": 32,
   "id": "9799da54-e216-44cc-b228-123a041855b9",
   "metadata": {},
   "outputs": [
    {
     "name": "stderr",
     "output_type": "stream",
     "text": [
      "[nltk_data] Downloading package wordnet to\n",
      "[nltk_data]     C:\\Users\\Shashank\\AppData\\Roaming\\nltk_data...\n"
     ]
    },
    {
     "data": {
      "text/plain": [
       "True"
      ]
     },
     "execution_count": 32,
     "metadata": {},
     "output_type": "execute_result"
    }
   ],
   "source": [
    "import nltk\n",
    "nltk.download('wordnet')"
   ]
  },
  {
   "cell_type": "code",
   "execution_count": 33,
   "id": "b661e464-4fe2-4a73-9869-f35a76d6a57e",
   "metadata": {},
   "outputs": [],
   "source": [
    "for rev in reviews_data:\n",
    "    rev = re.sub('[^a-zA-Z]',' ', rev)\n",
    "    rev = rev.lower()\n",
    "    rev = rev.split()\n",
    "    rev = [lemma.lemmatize(word) for word in rev if word not in set(stopwords.words(\"english\"))]\n",
    "    rev = \" \".join(rev)\n",
    "    corpus.append(rev)\n",
    "     \n",
    "   "
   ]
  },
  {
   "cell_type": "code",
   "execution_count": 34,
   "id": "c1fa0e80-6903-471e-ac46-2b19e9ee0207",
   "metadata": {},
   "outputs": [],
   "source": [
    "df['corpus']=corpus"
   ]
  },
  {
   "cell_type": "code",
   "execution_count": 35,
   "id": "1b7b28b1-f06a-4f26-831b-68234f0b2c6e",
   "metadata": {},
   "outputs": [
    {
     "data": {
      "text/html": [
       "<div>\n",
       "<style scoped>\n",
       "    .dataframe tbody tr th:only-of-type {\n",
       "        vertical-align: middle;\n",
       "    }\n",
       "\n",
       "    .dataframe tbody tr th {\n",
       "        vertical-align: top;\n",
       "    }\n",
       "\n",
       "    .dataframe thead th {\n",
       "        text-align: right;\n",
       "    }\n",
       "</style>\n",
       "<table border=\"1\" class=\"dataframe\">\n",
       "  <thead>\n",
       "    <tr style=\"text-align: right;\">\n",
       "      <th></th>\n",
       "      <th>reviews</th>\n",
       "      <th>verified</th>\n",
       "      <th>corpus</th>\n",
       "    </tr>\n",
       "  </thead>\n",
       "  <tbody>\n",
       "    <tr>\n",
       "      <th>0</th>\n",
       "      <td>✅ Trip Verified |  Flight delayed an hour due ...</td>\n",
       "      <td>True</td>\n",
       "      <td>flight delayed hour due bad weather around jfk...</td>\n",
       "    </tr>\n",
       "    <tr>\n",
       "      <th>1</th>\n",
       "      <td>✅ Trip Verified |  A very full flight made Pre...</td>\n",
       "      <td>True</td>\n",
       "      <td>full flight made premium economy feel little l...</td>\n",
       "    </tr>\n",
       "    <tr>\n",
       "      <th>2</th>\n",
       "      <td>✅ Trip Verified | The worst airline I’ve ever ...</td>\n",
       "      <td>True</td>\n",
       "      <td>worst airline ever flown could check flight op...</td>\n",
       "    </tr>\n",
       "    <tr>\n",
       "      <th>3</th>\n",
       "      <td>✅ Trip Verified |  I am surprised to be able t...</td>\n",
       "      <td>True</td>\n",
       "      <td>surprised able give favourable review flight e...</td>\n",
       "    </tr>\n",
       "    <tr>\n",
       "      <th>4</th>\n",
       "      <td>✅ Trip Verified |  Flew British Airways on BA ...</td>\n",
       "      <td>True</td>\n",
       "      <td>flew british airway ba london heathrow amsterd...</td>\n",
       "    </tr>\n",
       "  </tbody>\n",
       "</table>\n",
       "</div>"
      ],
      "text/plain": [
       "                                             reviews  verified  \\\n",
       "0  ✅ Trip Verified |  Flight delayed an hour due ...      True   \n",
       "1  ✅ Trip Verified |  A very full flight made Pre...      True   \n",
       "2  ✅ Trip Verified | The worst airline I’ve ever ...      True   \n",
       "3  ✅ Trip Verified |  I am surprised to be able t...      True   \n",
       "4  ✅ Trip Verified |  Flew British Airways on BA ...      True   \n",
       "\n",
       "                                              corpus  \n",
       "0  flight delayed hour due bad weather around jfk...  \n",
       "1  full flight made premium economy feel little l...  \n",
       "2  worst airline ever flown could check flight op...  \n",
       "3  surprised able give favourable review flight e...  \n",
       "4  flew british airway ba london heathrow amsterd...  "
      ]
     },
     "execution_count": 35,
     "metadata": {},
     "output_type": "execute_result"
    }
   ],
   "source": [
    "df.head()"
   ]
  },
  {
   "cell_type": "code",
   "execution_count": 36,
   "id": "475d4112-3b23-4a04-86c6-d0012b98d08a",
   "metadata": {},
   "outputs": [
    {
     "data": {
      "text/plain": [
       "reviews  verified  corpus\n",
       "False    False     False     1000\n",
       "Name: count, dtype: int64"
      ]
     },
     "execution_count": 36,
     "metadata": {},
     "output_type": "execute_result"
    }
   ],
   "source": [
    "\n",
    "df.isnull().value_counts()"
   ]
  },
  {
   "cell_type": "code",
   "execution_count": 37,
   "id": "3a3fc640-8cc3-471b-aa01-78f9dc74c70b",
   "metadata": {},
   "outputs": [
    {
     "data": {
      "text/html": [
       "<div>\n",
       "<style scoped>\n",
       "    .dataframe tbody tr th:only-of-type {\n",
       "        vertical-align: middle;\n",
       "    }\n",
       "\n",
       "    .dataframe tbody tr th {\n",
       "        vertical-align: top;\n",
       "    }\n",
       "\n",
       "    .dataframe thead th {\n",
       "        text-align: right;\n",
       "    }\n",
       "</style>\n",
       "<table border=\"1\" class=\"dataframe\">\n",
       "  <thead>\n",
       "    <tr style=\"text-align: right;\">\n",
       "      <th></th>\n",
       "      <th>reviews</th>\n",
       "      <th>verified</th>\n",
       "      <th>corpus</th>\n",
       "    </tr>\n",
       "  </thead>\n",
       "  <tbody>\n",
       "    <tr>\n",
       "      <th>0</th>\n",
       "      <td>✅ Trip Verified |  Flight delayed an hour due ...</td>\n",
       "      <td>True</td>\n",
       "      <td>flight delayed hour due bad weather around jfk...</td>\n",
       "    </tr>\n",
       "    <tr>\n",
       "      <th>1</th>\n",
       "      <td>✅ Trip Verified |  A very full flight made Pre...</td>\n",
       "      <td>True</td>\n",
       "      <td>full flight made premium economy feel little l...</td>\n",
       "    </tr>\n",
       "    <tr>\n",
       "      <th>2</th>\n",
       "      <td>✅ Trip Verified | The worst airline I’ve ever ...</td>\n",
       "      <td>True</td>\n",
       "      <td>worst airline ever flown could check flight op...</td>\n",
       "    </tr>\n",
       "    <tr>\n",
       "      <th>3</th>\n",
       "      <td>✅ Trip Verified |  I am surprised to be able t...</td>\n",
       "      <td>True</td>\n",
       "      <td>surprised able give favourable review flight e...</td>\n",
       "    </tr>\n",
       "    <tr>\n",
       "      <th>4</th>\n",
       "      <td>✅ Trip Verified |  Flew British Airways on BA ...</td>\n",
       "      <td>True</td>\n",
       "      <td>flew british airway ba london heathrow amsterd...</td>\n",
       "    </tr>\n",
       "    <tr>\n",
       "      <th>...</th>\n",
       "      <td>...</td>\n",
       "      <td>...</td>\n",
       "      <td>...</td>\n",
       "    </tr>\n",
       "    <tr>\n",
       "      <th>995</th>\n",
       "      <td>✅ Trip Verified |  \\r\\nGatwick to Barbados ret...</td>\n",
       "      <td>True</td>\n",
       "      <td>gatwick barbados return normally travel ba low...</td>\n",
       "    </tr>\n",
       "    <tr>\n",
       "      <th>996</th>\n",
       "      <td>✅ Trip Verified |  Marseille to London. I am g...</td>\n",
       "      <td>True</td>\n",
       "      <td>marseille london generally annoyed quality ser...</td>\n",
       "    </tr>\n",
       "    <tr>\n",
       "      <th>997</th>\n",
       "      <td>✅ Trip Verified |  The cabin crew on flight BA...</td>\n",
       "      <td>True</td>\n",
       "      <td>cabin crew flight ba london chennai efficient ...</td>\n",
       "    </tr>\n",
       "    <tr>\n",
       "      <th>998</th>\n",
       "      <td>✅ Trip Verified |  Gatwick to Malaga. Check in...</td>\n",
       "      <td>True</td>\n",
       "      <td>gatwick malaga check fairly quick check area g...</td>\n",
       "    </tr>\n",
       "    <tr>\n",
       "      <th>999</th>\n",
       "      <td>✅ Trip Verified |  Boston to London Heathrow, ...</td>\n",
       "      <td>True</td>\n",
       "      <td>boston london heathrow excited experience firs...</td>\n",
       "    </tr>\n",
       "  </tbody>\n",
       "</table>\n",
       "<p>1000 rows × 3 columns</p>\n",
       "</div>"
      ],
      "text/plain": [
       "                                               reviews  verified  \\\n",
       "0    ✅ Trip Verified |  Flight delayed an hour due ...      True   \n",
       "1    ✅ Trip Verified |  A very full flight made Pre...      True   \n",
       "2    ✅ Trip Verified | The worst airline I’ve ever ...      True   \n",
       "3    ✅ Trip Verified |  I am surprised to be able t...      True   \n",
       "4    ✅ Trip Verified |  Flew British Airways on BA ...      True   \n",
       "..                                                 ...       ...   \n",
       "995  ✅ Trip Verified |  \\r\\nGatwick to Barbados ret...      True   \n",
       "996  ✅ Trip Verified |  Marseille to London. I am g...      True   \n",
       "997  ✅ Trip Verified |  The cabin crew on flight BA...      True   \n",
       "998  ✅ Trip Verified |  Gatwick to Malaga. Check in...      True   \n",
       "999  ✅ Trip Verified |  Boston to London Heathrow, ...      True   \n",
       "\n",
       "                                                corpus  \n",
       "0    flight delayed hour due bad weather around jfk...  \n",
       "1    full flight made premium economy feel little l...  \n",
       "2    worst airline ever flown could check flight op...  \n",
       "3    surprised able give favourable review flight e...  \n",
       "4    flew british airway ba london heathrow amsterd...  \n",
       "..                                                 ...  \n",
       "995  gatwick barbados return normally travel ba low...  \n",
       "996  marseille london generally annoyed quality ser...  \n",
       "997  cabin crew flight ba london chennai efficient ...  \n",
       "998  gatwick malaga check fairly quick check area g...  \n",
       "999  boston london heathrow excited experience firs...  \n",
       "\n",
       "[1000 rows x 3 columns]"
      ]
     },
     "execution_count": 37,
     "metadata": {},
     "output_type": "execute_result"
    }
   ],
   "source": [
    "df.reset_index(drop=True)"
   ]
  },
  {
   "cell_type": "code",
   "execution_count": 38,
   "id": "27894662-cf4a-4295-907c-5b3a884b2ecd",
   "metadata": {},
   "outputs": [],
   "source": [
    "df.to_csv(cwd + \"/cleaned-BA-reviews.csv\")"
   ]
  }
 ],
 "metadata": {
  "kernelspec": {
   "display_name": "Python 3 (ipykernel)",
   "language": "python",
   "name": "python3"
  },
  "language_info": {
   "codemirror_mode": {
    "name": "ipython",
    "version": 3
   },
   "file_extension": ".py",
   "mimetype": "text/x-python",
   "name": "python",
   "nbconvert_exporter": "python",
   "pygments_lexer": "ipython3",
   "version": "3.11.7"
  }
 },
 "nbformat": 4,
 "nbformat_minor": 5
}
